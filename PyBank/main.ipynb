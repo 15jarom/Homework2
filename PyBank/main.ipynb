{
 "cells": [
  {
   "cell_type": "code",
   "execution_count": 103,
   "id": "319796fa-ad75-4d46-8618-8110dd4c9c36",
   "metadata": {
    "tags": []
   },
   "outputs": [],
   "source": [
    "from pathlib import Path\n",
    "import csv\n",
    "import numpy as np\n",
    "csvpath = Path(\"../../Starter_Code/PyBank//Resources/budget_data.csv\")"
   ]
  },
  {
   "cell_type": "code",
   "execution_count": 115,
   "id": "d6cb721d-19c0-456b-bc29-ebae20a883b5",
   "metadata": {
    "tags": []
   },
   "outputs": [
    {
     "name": "stdout",
     "output_type": "stream",
     "text": [
      "57714514\n",
      "86\n",
      "['Feb-2012', '1170593']\n",
      "['Sep-2013', '-1196225']\n",
      "[867884, 984655, 322013, -69417, 310503, 522857, 1033096, 604885, -216386, 477532, 893810, -80353, 779806, -335203, 697845, 793163, 485070, 584122, 62729, 668179, 899906, 834719, 132003, 309978, -755566, 1170593, 252788, 1151518, 817256, 570757, 506702, -1022534, 475062, 779976, 144175, 542494, 359333, 321469, 67780, 471435, 565603, 872480, 789480, 999942, -1196225, 268997, -687986, 1150461, 682458, 617856, 824098, 581943, 132864, 448062, 689161, 800701, 1166643, 947333, 578668, 988505, 1139715, 1029471, 687533, -524626, 158620, 87795, 423389, 840723, 568529, 332067, 989499, 778237, 650000, -1100387, -174946, 757143, 445709, 712961, -1163797, 569899, 768450, 102685, 795914, 60988, 138230, 671099]\n",
      "86\n",
      "[984655, 322013, -69417, 310503, 522857, 1033096, 604885, -216386, 477532, 893810, -80353, 779806, -335203, 697845, 793163, 485070, 584122, 62729, 668179, 899906, 834719, 132003, 309978, -755566, 1170593, 252788, 1151518, 817256, 570757, 506702, -1022534, 475062, 779976, 144175, 542494, 359333, 321469, 67780, 471435, 565603, 872480, 789480, 999942, -1196225, 268997, -687986, 1150461, 682458, 617856, 824098, 581943, 132864, 448062, 689161, 800701, 1166643, 947333, 578668, 988505, 1139715, 1029471, 687533, -524626, 158620, 87795, 423389, 840723, 568529, 332067, 989499, 778237, 650000, -1100387, -174946, 757143, 445709, 712961, -1163797, 569899, 768450, 102685, 795914, 60988, 138230, 671099, 0]\n",
      "86\n",
      "-2315.1176470588234\n"
     ]
    }
   ],
   "source": [
    "months = 0\n",
    "total = 0\n",
    "blank = [] \n",
    "change = []\n",
    "difference = []\n",
    "highest = [0, 0]\n",
    "lowest = [0, 0]\n",
    "\n",
    "with open(csvpath, \"r\") as csvfile:\n",
    "    budget = csv.reader(csvfile, delimiter=\",\")\n",
    "    next(budget)\n",
    "    for row in budget:\n",
    "        blank.append(int(row[1]))\n",
    "        \n",
    "        if int(highest[1]) < int(row[1]):\n",
    "            highest = row\n",
    "        if int(lowest[1]) > int(row[1]):\n",
    "            lowest = row\n",
    "        months += 1\n",
    "        total += line   \n",
    "        \n",
    "    for line in blank[1:]:\n",
    "       change.append(line)\n",
    "    change.append(0)\n",
    "    for i in range(len(change)):\n",
    "        difference.append(change[i] - blank[i])\n",
    "        \n",
    "            \n",
    "        \n",
    "    print(total)\n",
    "    print(months)\n",
    "    print(highest)\n",
    "    print(lowest)\n",
    "    print(blank)\n",
    "    print(len(blank))\n",
    "    print(change)\n",
    "    print(len(change))\n",
    "    print(np.average(difference[0:85]))"
   ]
  },
  {
   "cell_type": "code",
   "execution_count": 129,
   "id": "3a23d2e8-1fe3-4b38-96a6-00b4f117714a",
   "metadata": {
    "tags": []
   },
   "outputs": [
    {
     "name": "stdout",
     "output_type": "stream",
     "text": [
      "Financial Analysis\n",
      "------------------\n",
      "Total Months: 86\n",
      "Total Amount: $57714514\n",
      "Average Change: $ -2315.12\n",
      "Best Month: Feb-2012, $1170593 \n",
      "Worst Month: Sep-2013, $-1196225 \n",
      "Best change between months: $1926159 \n",
      "Worst change between months: $-2196167 \n"
     ]
    }
   ],
   "source": [
    "#RESULTS\n",
    "\n",
    "print(f\"Financial Analysis\")\n",
    "print(f\"------------------\")\n",
    "print(f\"Total Months: {months}\")\n",
    "print(f\"Total Amount: ${total}\")\n",
    "print(\"Average Change: $\",round(np.average(difference[0:85]),2))\n",
    "print(f\"Best Month: {highest[0]}, ${highest[1]} \")\n",
    "print(f\"Worst Month: {lowest[0]}, ${lowest[1]} \")\n",
    "print(f\"Best change between months: ${max(difference)} \")\n",
    "print(f\"Worst change between months: ${min(difference)} \")"
   ]
  },
  {
   "cell_type": "code",
   "execution_count": null,
   "id": "343b7dac-b5ad-4e8e-bc32-ea5aa58e7837",
   "metadata": {},
   "outputs": [],
   "source": []
  }
 ],
 "metadata": {
  "kernelspec": {
   "display_name": "Python 3 (ipykernel)",
   "language": "python",
   "name": "python3"
  },
  "language_info": {
   "codemirror_mode": {
    "name": "ipython",
    "version": 3
   },
   "file_extension": ".py",
   "mimetype": "text/x-python",
   "name": "python",
   "nbconvert_exporter": "python",
   "pygments_lexer": "ipython3",
   "version": "3.11.5"
  }
 },
 "nbformat": 4,
 "nbformat_minor": 5
}
